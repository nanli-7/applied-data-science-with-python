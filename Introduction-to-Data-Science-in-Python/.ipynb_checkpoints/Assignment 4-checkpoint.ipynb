{
 "cells": [
  {
   "cell_type": "markdown",
   "metadata": {},
   "source": [
    "---\n",
    "\n",
    "_You are currently looking at **version 1.1** of this notebook. To download notebooks and datafiles, as well as get help on Jupyter notebooks in the Coursera platform, visit the [Jupyter Notebook FAQ](https://www.coursera.org/learn/python-data-analysis/resources/0dhYG) course resource._\n",
    "\n",
    "---"
   ]
  },
  {
   "cell_type": "code",
   "execution_count": 1,
   "metadata": {},
   "outputs": [],
   "source": [
    "import pandas as pd\n",
    "import numpy as np\n",
    "from scipy.stats import ttest_ind\n",
    "import re"
   ]
  },
  {
   "cell_type": "markdown",
   "metadata": {},
   "source": [
    "# Assignment 4 - Hypothesis Testing\n",
    "This assignment requires more individual learning than previous assignments - you are encouraged to check out the [pandas documentation](http://pandas.pydata.org/pandas-docs/stable/) to find functions or methods you might not have used yet, or ask questions on [Stack Overflow](http://stackoverflow.com/) and tag them as pandas and python related. And of course, the discussion forums are open for interaction with your peers and the course staff.\n",
    "\n",
    "Definitions:\n",
    "* A _quarter_ is a specific three month period, Q1 is January through March, Q2 is April through June, Q3 is July through September, Q4 is October through December.\n",
    "* A _recession_ is defined as starting with two consecutive quarters of GDP decline, and ending with two consecutive quarters of GDP growth.\n",
    "* A _recession bottom_ is the quarter within a recession which had the lowest GDP.\n",
    "* A _university town_ is a city which has a high percentage of university students compared to the total population of the city.\n",
    "\n",
    "**Hypothesis**: University towns have their mean housing prices less effected by recessions. Run a t-test to compare the ratio of the mean price of houses in university towns the quarter before the recession starts compared to the recession bottom. (`price_ratio=quarter_before_recession/recession_bottom`)\n",
    "\n",
    "The following data files are available for this assignment:\n",
    "* From the [Zillow research data site](http://www.zillow.com/research/data/) there is housing data for the United States. In particular the datafile for [all homes at a city level](http://files.zillowstatic.com/research/public/City/City_Zhvi_AllHomes.csv), ```City_Zhvi_AllHomes.csv```, has median home sale prices at a fine grained level.\n",
    "* From the Wikipedia page on college towns is a list of [university towns in the United States](https://en.wikipedia.org/wiki/List_of_college_towns#College_towns_in_the_United_States) which has been copy and pasted into the file ```university_towns.txt```.\n",
    "* From Bureau of Economic Analysis, US Department of Commerce, the [GDP over time](http://www.bea.gov/national/index.htm#gdp) of the United States in current dollars (use the chained value in 2009 dollars), in quarterly intervals, in the file ```gdplev.xls```. For this assignment, only look at GDP data from the first quarter of 2000 onward.\n",
    "\n",
    "Each function in this assignment below is worth 10%, with the exception of ```run_ttest()```, which is worth 50%."
   ]
  },
  {
   "cell_type": "code",
   "execution_count": 2,
   "metadata": {},
   "outputs": [],
   "source": [
    "# Use this dictionary to map state names to two letter acronyms\n",
    "states = {'OH': 'Ohio', 'KY': 'Kentucky', 'AS': 'American Samoa', 'NV': 'Nevada', 'WY': 'Wyoming', 'NA': 'National', 'AL': 'Alabama', 'MD': 'Maryland', 'AK': 'Alaska', 'UT': 'Utah', 'OR': 'Oregon', 'MT': 'Montana', 'IL': 'Illinois', 'TN': 'Tennessee', 'DC': 'District of Columbia', 'VT': 'Vermont', 'ID': 'Idaho', 'AR': 'Arkansas', 'ME': 'Maine', 'WA': 'Washington', 'HI': 'Hawaii', 'WI': 'Wisconsin', 'MI': 'Michigan', 'IN': 'Indiana', 'NJ': 'New Jersey', 'AZ': 'Arizona', 'GU': 'Guam', 'MS': 'Mississippi', 'PR': 'Puerto Rico', 'NC': 'North Carolina', 'TX': 'Texas', 'SD': 'South Dakota', 'MP': 'Northern Mariana Islands', 'IA': 'Iowa', 'MO': 'Missouri', 'CT': 'Connecticut', 'WV': 'West Virginia', 'SC': 'South Carolina', 'LA': 'Louisiana', 'KS': 'Kansas', 'NY': 'New York', 'NE': 'Nebraska', 'OK': 'Oklahoma', 'FL': 'Florida', 'CA': 'California', 'CO': 'Colorado', 'PA': 'Pennsylvania', 'DE': 'Delaware', 'NM': 'New Mexico', 'RI': 'Rhode Island', 'MN': 'Minnesota', 'VI': 'Virgin Islands', 'NH': 'New Hampshire', 'MA': 'Massachusetts', 'GA': 'Georgia', 'ND': 'North Dakota', 'VA': 'Virginia'}"
   ]
  },
  {
   "cell_type": "code",
   "execution_count": 3,
   "metadata": {},
   "outputs": [],
   "source": [
    "university_towns = pd.read_csv('university_towns.txt',delimiter=\"\\n\", header = None)"
   ]
  },
  {
   "cell_type": "code",
   "execution_count": 4,
   "metadata": {},
   "outputs": [],
   "source": [
    "def get_list_of_university_towns():\n",
    "    '''Returns a DataFrame of towns and the states they are in from the \n",
    "    university_towns.txt list. The format of the DataFrame should be:\n",
    "    DataFrame( [ [\"Michigan\", \"Ann Arbor\"], [\"Michigan\", \"Yipsilanti\"] ], \n",
    "    columns=[\"State\", \"RegionName\"]  )\n",
    "    \n",
    "    The following cleaning needs to be done:\n",
    "\n",
    "    1. For \"State\", removing characters from \"[\" to the end.\n",
    "    2. For \"RegionName\", when applicable, removing every character from \" (\" to the end.\n",
    "    3. Depending on how you read the data, you may need to remove newline character '\\n'. '''\n",
    "    \n",
    "    rows = []\n",
    "    for line in university_towns[0]:\n",
    "        #print (line)\n",
    "        if line.endswith('[edit]'):\n",
    "            state = line.replace('[edit]',\"\")\n",
    "        elif \"(\" in line: \n",
    "            start = line.find(\"(\")\n",
    "            town = line[:start-1]\n",
    "            rows.append([state, town])\n",
    "        else:\n",
    "            town = line.rstrip()\n",
    "            rows.append([state, town])\n",
    "\n",
    "    df_university_town = pd.DataFrame(rows, columns=[\"State\", \"RegionName\"] )\n",
    "\n",
    "    \n",
    "    return df_university_town\n"
   ]
  },
  {
   "cell_type": "code",
   "execution_count": 5,
   "metadata": {},
   "outputs": [],
   "source": [
    "gdp = pd.read_excel('gdplev.xls',skiprows=5)"
   ]
  },
  {
   "cell_type": "code",
   "execution_count": 6,
   "metadata": {},
   "outputs": [],
   "source": [
    "gdp = gdp.iloc[:,[4,6]]"
   ]
  },
  {
   "cell_type": "code",
   "execution_count": 7,
   "metadata": {},
   "outputs": [],
   "source": [
    "gdp.columns = ['Quarter',\"GDP in billions of chained 2009 dollars\" ]"
   ]
  },
  {
   "cell_type": "code",
   "execution_count": 8,
   "metadata": {},
   "outputs": [
    {
     "data": {
      "text/html": [
       "<div>\n",
       "<style scoped>\n",
       "    .dataframe tbody tr th:only-of-type {\n",
       "        vertical-align: middle;\n",
       "    }\n",
       "\n",
       "    .dataframe tbody tr th {\n",
       "        vertical-align: top;\n",
       "    }\n",
       "\n",
       "    .dataframe thead th {\n",
       "        text-align: right;\n",
       "    }\n",
       "</style>\n",
       "<table border=\"1\" class=\"dataframe\">\n",
       "  <thead>\n",
       "    <tr style=\"text-align: right;\">\n",
       "      <th></th>\n",
       "      <th>Quarter</th>\n",
       "      <th>GDP in billions of chained 2009 dollars</th>\n",
       "    </tr>\n",
       "  </thead>\n",
       "  <tbody>\n",
       "    <tr>\n",
       "      <th>0</th>\n",
       "      <td>2000q1</td>\n",
       "      <td>12359.1</td>\n",
       "    </tr>\n",
       "    <tr>\n",
       "      <th>1</th>\n",
       "      <td>2000q2</td>\n",
       "      <td>12592.5</td>\n",
       "    </tr>\n",
       "    <tr>\n",
       "      <th>2</th>\n",
       "      <td>2000q3</td>\n",
       "      <td>12607.7</td>\n",
       "    </tr>\n",
       "    <tr>\n",
       "      <th>3</th>\n",
       "      <td>2000q4</td>\n",
       "      <td>12679.3</td>\n",
       "    </tr>\n",
       "    <tr>\n",
       "      <th>4</th>\n",
       "      <td>2001q1</td>\n",
       "      <td>12643.3</td>\n",
       "    </tr>\n",
       "  </tbody>\n",
       "</table>\n",
       "</div>"
      ],
      "text/plain": [
       "  Quarter  GDP in billions of chained 2009 dollars\n",
       "0  2000q1                                  12359.1\n",
       "1  2000q2                                  12592.5\n",
       "2  2000q3                                  12607.7\n",
       "3  2000q4                                  12679.3\n",
       "4  2001q1                                  12643.3"
      ]
     },
     "execution_count": 8,
     "metadata": {},
     "output_type": "execute_result"
    }
   ],
   "source": [
    "df_gdp = gdp[gdp['Quarter'] >= '2000q1']\n",
    "df_gdp.reset_index(drop=True,inplace=True)\n",
    "df_gdp.head()"
   ]
  },
  {
   "cell_type": "code",
   "execution_count": 9,
   "metadata": {},
   "outputs": [
    {
     "data": {
      "text/plain": [
       "'2008q3'"
      ]
     },
     "execution_count": 9,
     "metadata": {},
     "output_type": "execute_result"
    }
   ],
   "source": [
    "def get_recession_start():\n",
    "    '''Returns the year and quarter of the recession start time as a \n",
    "    string value in a format such as 2005q3'''\n",
    "    for i, row in df_gdp[2:].iterrows():\n",
    "        if (df_gdp.iloc[i-2][1] > df_gdp.iloc[i-1][1]) and (df_gdp.iloc[i-1][1] > df_gdp.iloc[i][1]):\n",
    "            return (df_gdp.iloc[i-1][0])\n",
    "               \n",
    "get_recession_start()"
   ]
  },
  {
   "cell_type": "code",
   "execution_count": 10,
   "metadata": {},
   "outputs": [
    {
     "data": {
      "text/plain": [
       "'2009q4'"
      ]
     },
     "execution_count": 10,
     "metadata": {},
     "output_type": "execute_result"
    }
   ],
   "source": [
    "def get_recession_end():\n",
    "    '''Returns the year and quarter of the recession end time as a \n",
    "    string value in a format such as 2005q3'''\n",
    "    recession_quarter = get_recession_start()  \n",
    "    for i, row in df_gdp[2:].iterrows():\n",
    "        if row.values[0]>recession_quarter:\n",
    "            if (df_gdp.iloc[i-1][1] < df_gdp.iloc[i][1]) and (df_gdp.iloc[i-2][1] < df_gdp.iloc[i-1][1]):\n",
    "                return df_gdp.iloc[i][0]\n",
    "            \n",
    "            \n",
    "get_recession_end()"
   ]
  },
  {
   "cell_type": "code",
   "execution_count": 11,
   "metadata": {},
   "outputs": [
    {
     "data": {
      "text/plain": [
       "'2009q2'"
      ]
     },
     "execution_count": 11,
     "metadata": {},
     "output_type": "execute_result"
    }
   ],
   "source": [
    "def get_recession_bottom():\n",
    "    '''Returns the year and quarter of the recession bottom time as a \n",
    "    string value in a format such as 2005q3'''\n",
    "    recession_quarter = get_recession_start()\n",
    "    recovery_quarter = get_recession_end()\n",
    "    recession = df_gdp[(df_gdp['Quarter']>recession_quarter) &( df_gdp['Quarter']<recovery_quarter)]\n",
    "        \n",
    "    recession_bottom = recession[recession['GDP in billions of chained 2009 dollars']== min(recession['GDP in billions of chained 2009 dollars'])]\n",
    "    \n",
    "    return recession_bottom['Quarter'].values[0]\n",
    "\n",
    "get_recession_bottom()"
   ]
  },
  {
   "cell_type": "code",
   "execution_count": 12,
   "metadata": {},
   "outputs": [],
   "source": [
    "housing_data = pd.read_csv('City_Zhvi_AllHomes.csv')"
   ]
  },
  {
   "cell_type": "code",
   "execution_count": 13,
   "metadata": {},
   "outputs": [
    {
     "data": {
      "text/plain": [
       "Index(['RegionID', 'RegionName', 'State', 'Metro', 'CountyName', 'SizeRank',\n",
       "       '1996-04', '1996-05', '1996-06', '1996-07',\n",
       "       ...\n",
       "       '2015-11', '2015-12', '2016-01', '2016-02', '2016-03', '2016-04',\n",
       "       '2016-05', '2016-06', '2016-07', '2016-08'],\n",
       "      dtype='object', length=251)"
      ]
     },
     "execution_count": 13,
     "metadata": {},
     "output_type": "execute_result"
    }
   ],
   "source": [
    "housing_data.columns"
   ]
  },
  {
   "cell_type": "code",
   "execution_count": 14,
   "metadata": {},
   "outputs": [
    {
     "data": {
      "text/html": [
       "<div>\n",
       "<style scoped>\n",
       "    .dataframe tbody tr th:only-of-type {\n",
       "        vertical-align: middle;\n",
       "    }\n",
       "\n",
       "    .dataframe tbody tr th {\n",
       "        vertical-align: top;\n",
       "    }\n",
       "\n",
       "    .dataframe thead th {\n",
       "        text-align: right;\n",
       "    }\n",
       "</style>\n",
       "<table border=\"1\" class=\"dataframe\">\n",
       "  <thead>\n",
       "    <tr style=\"text-align: right;\">\n",
       "      <th></th>\n",
       "      <th>RegionID</th>\n",
       "      <th>RegionName</th>\n",
       "      <th>State</th>\n",
       "      <th>Metro</th>\n",
       "      <th>CountyName</th>\n",
       "      <th>SizeRank</th>\n",
       "    </tr>\n",
       "  </thead>\n",
       "  <tbody>\n",
       "    <tr>\n",
       "      <th>0</th>\n",
       "      <td>6181</td>\n",
       "      <td>New York</td>\n",
       "      <td>NY</td>\n",
       "      <td>New York</td>\n",
       "      <td>Queens</td>\n",
       "      <td>1</td>\n",
       "    </tr>\n",
       "    <tr>\n",
       "      <th>1</th>\n",
       "      <td>12447</td>\n",
       "      <td>Los Angeles</td>\n",
       "      <td>CA</td>\n",
       "      <td>Los Angeles-Long Beach-Anaheim</td>\n",
       "      <td>Los Angeles</td>\n",
       "      <td>2</td>\n",
       "    </tr>\n",
       "    <tr>\n",
       "      <th>2</th>\n",
       "      <td>17426</td>\n",
       "      <td>Chicago</td>\n",
       "      <td>IL</td>\n",
       "      <td>Chicago</td>\n",
       "      <td>Cook</td>\n",
       "      <td>3</td>\n",
       "    </tr>\n",
       "  </tbody>\n",
       "</table>\n",
       "</div>"
      ],
      "text/plain": [
       "   RegionID   RegionName State                           Metro   CountyName  \\\n",
       "0      6181     New York    NY                        New York       Queens   \n",
       "1     12447  Los Angeles    CA  Los Angeles-Long Beach-Anaheim  Los Angeles   \n",
       "2     17426      Chicago    IL                         Chicago         Cook   \n",
       "\n",
       "   SizeRank  \n",
       "0         1  \n",
       "1         2  \n",
       "2         3  "
      ]
     },
     "execution_count": 14,
     "metadata": {},
     "output_type": "execute_result"
    }
   ],
   "source": [
    "regions = housing_data.iloc[:,:6]\n",
    "regions.head(3)"
   ]
  },
  {
   "cell_type": "code",
   "execution_count": 15,
   "metadata": {},
   "outputs": [],
   "source": [
    "housing_data['State'] = housing_data['State'].map(states)"
   ]
  },
  {
   "cell_type": "code",
   "execution_count": 16,
   "metadata": {},
   "outputs": [
    {
     "data": {
      "text/plain": [
       "0            [New York, New York]\n",
       "1       [California, Los Angeles]\n",
       "2             [Illinois, Chicago]\n",
       "3    [Pennsylvania, Philadelphia]\n",
       "4              [Arizona, Phoenix]\n",
       "dtype: object"
      ]
     },
     "execution_count": 16,
     "metadata": {},
     "output_type": "execute_result"
    }
   ],
   "source": [
    "region_index = housing_data[['State','RegionName']].apply(lambda x : '[{}, {}]'.format(x[0],x[1]), axis=1)\n",
    "region_index = pd.Series(region_index)\n",
    "region_index.head()"
   ]
  },
  {
   "cell_type": "code",
   "execution_count": 17,
   "metadata": {},
   "outputs": [
    {
     "data": {
      "text/html": [
       "<div>\n",
       "<style scoped>\n",
       "    .dataframe tbody tr th:only-of-type {\n",
       "        vertical-align: middle;\n",
       "    }\n",
       "\n",
       "    .dataframe tbody tr th {\n",
       "        vertical-align: top;\n",
       "    }\n",
       "\n",
       "    .dataframe thead th {\n",
       "        text-align: right;\n",
       "    }\n",
       "</style>\n",
       "<table border=\"1\" class=\"dataframe\">\n",
       "  <thead>\n",
       "    <tr style=\"text-align: right;\">\n",
       "      <th></th>\n",
       "      <th>1996-04</th>\n",
       "      <th>1996-05</th>\n",
       "      <th>1996-06</th>\n",
       "      <th>1996-07</th>\n",
       "      <th>1996-08</th>\n",
       "      <th>1996-09</th>\n",
       "      <th>1996-10</th>\n",
       "      <th>1996-11</th>\n",
       "      <th>1996-12</th>\n",
       "      <th>1997-01</th>\n",
       "      <th>...</th>\n",
       "      <th>2015-11</th>\n",
       "      <th>2015-12</th>\n",
       "      <th>2016-01</th>\n",
       "      <th>2016-02</th>\n",
       "      <th>2016-03</th>\n",
       "      <th>2016-04</th>\n",
       "      <th>2016-05</th>\n",
       "      <th>2016-06</th>\n",
       "      <th>2016-07</th>\n",
       "      <th>2016-08</th>\n",
       "    </tr>\n",
       "  </thead>\n",
       "  <tbody>\n",
       "    <tr>\n",
       "      <th>0</th>\n",
       "      <td>NaN</td>\n",
       "      <td>NaN</td>\n",
       "      <td>NaN</td>\n",
       "      <td>NaN</td>\n",
       "      <td>NaN</td>\n",
       "      <td>NaN</td>\n",
       "      <td>NaN</td>\n",
       "      <td>NaN</td>\n",
       "      <td>NaN</td>\n",
       "      <td>NaN</td>\n",
       "      <td>...</td>\n",
       "      <td>573600</td>\n",
       "      <td>576200</td>\n",
       "      <td>578400</td>\n",
       "      <td>582200</td>\n",
       "      <td>588000</td>\n",
       "      <td>592200</td>\n",
       "      <td>592500</td>\n",
       "      <td>590200</td>\n",
       "      <td>588000</td>\n",
       "      <td>586400</td>\n",
       "    </tr>\n",
       "    <tr>\n",
       "      <th>1</th>\n",
       "      <td>155000.0</td>\n",
       "      <td>154600.0</td>\n",
       "      <td>154400.0</td>\n",
       "      <td>154200.0</td>\n",
       "      <td>154100.0</td>\n",
       "      <td>154300.0</td>\n",
       "      <td>154300.0</td>\n",
       "      <td>154200.0</td>\n",
       "      <td>154800.0</td>\n",
       "      <td>155900.0</td>\n",
       "      <td>...</td>\n",
       "      <td>558200</td>\n",
       "      <td>560800</td>\n",
       "      <td>562800</td>\n",
       "      <td>565600</td>\n",
       "      <td>569700</td>\n",
       "      <td>574000</td>\n",
       "      <td>577800</td>\n",
       "      <td>580600</td>\n",
       "      <td>583000</td>\n",
       "      <td>585100</td>\n",
       "    </tr>\n",
       "    <tr>\n",
       "      <th>2</th>\n",
       "      <td>109700.0</td>\n",
       "      <td>109400.0</td>\n",
       "      <td>109300.0</td>\n",
       "      <td>109300.0</td>\n",
       "      <td>109100.0</td>\n",
       "      <td>109000.0</td>\n",
       "      <td>109000.0</td>\n",
       "      <td>109600.0</td>\n",
       "      <td>110200.0</td>\n",
       "      <td>110800.0</td>\n",
       "      <td>...</td>\n",
       "      <td>207800</td>\n",
       "      <td>206900</td>\n",
       "      <td>206200</td>\n",
       "      <td>205800</td>\n",
       "      <td>206200</td>\n",
       "      <td>207300</td>\n",
       "      <td>208200</td>\n",
       "      <td>209100</td>\n",
       "      <td>211000</td>\n",
       "      <td>213000</td>\n",
       "    </tr>\n",
       "  </tbody>\n",
       "</table>\n",
       "<p>3 rows × 245 columns</p>\n",
       "</div>"
      ],
      "text/plain": [
       "    1996-04   1996-05   1996-06   1996-07   1996-08   1996-09   1996-10  \\\n",
       "0       NaN       NaN       NaN       NaN       NaN       NaN       NaN   \n",
       "1  155000.0  154600.0  154400.0  154200.0  154100.0  154300.0  154300.0   \n",
       "2  109700.0  109400.0  109300.0  109300.0  109100.0  109000.0  109000.0   \n",
       "\n",
       "    1996-11   1996-12   1997-01  ...  2015-11  2015-12  2016-01  2016-02  \\\n",
       "0       NaN       NaN       NaN  ...   573600   576200   578400   582200   \n",
       "1  154200.0  154800.0  155900.0  ...   558200   560800   562800   565600   \n",
       "2  109600.0  110200.0  110800.0  ...   207800   206900   206200   205800   \n",
       "\n",
       "   2016-03  2016-04  2016-05  2016-06  2016-07  2016-08  \n",
       "0   588000   592200   592500   590200   588000   586400  \n",
       "1   569700   574000   577800   580600   583000   585100  \n",
       "2   206200   207300   208200   209100   211000   213000  \n",
       "\n",
       "[3 rows x 245 columns]"
      ]
     },
     "execution_count": 17,
     "metadata": {},
     "output_type": "execute_result"
    }
   ],
   "source": [
    "prices = housing_data.iloc[:,6:]\n",
    "prices.head(3)"
   ]
  },
  {
   "cell_type": "code",
   "execution_count": 18,
   "metadata": {},
   "outputs": [
    {
     "data": {
      "text/plain": [
       "Index(['1996q2', '1996q2', '1996q2', '1996q3', '1996q3', '1996q3', '1996q4',\n",
       "       '1996q4', '1996q4', '1997q1',\n",
       "       ...\n",
       "       '2015q4', '2015q4', '2016q1', '2016q1', '2016q1', '2016q2', '2016q2',\n",
       "       '2016q2', '2016q3', '2016q3'],\n",
       "      dtype='object', length=245)"
      ]
     },
     "execution_count": 18,
     "metadata": {},
     "output_type": "execute_result"
    }
   ],
   "source": [
    "col = pd.PeriodIndex(housing_data.columns[6:],freq='Q').strftime('%Yq%q')\n",
    "col"
   ]
  },
  {
   "cell_type": "code",
   "execution_count": 19,
   "metadata": {},
   "outputs": [],
   "source": [
    "quarter_price = prices.groupby(col, axis=1).mean()"
   ]
  },
  {
   "cell_type": "code",
   "execution_count": 20,
   "metadata": {},
   "outputs": [
    {
     "data": {
      "text/plain": [
       "(10730, 67)"
      ]
     },
     "execution_count": 20,
     "metadata": {},
     "output_type": "execute_result"
    }
   ],
   "source": [
    "quarter_price = quarter_price.loc[:, '2000q1':]\n",
    "quarter_price.shape"
   ]
  },
  {
   "cell_type": "code",
   "execution_count": 21,
   "metadata": {
    "scrolled": true
   },
   "outputs": [
    {
     "name": "stderr",
     "output_type": "stream",
     "text": [
      "/Users/Nan/anaconda2/lib/python3.7/site-packages/pandas/core/indexing.py:969: FutureWarning: \n",
      "Passing list-likes to .loc or [] with any missing label will raise\n",
      "KeyError in the future, you can use .reindex() as an alternative.\n",
      "\n",
      "See the documentation here:\n",
      "https://pandas.pydata.org/pandas-docs/stable/indexing.html#deprecate-loc-reindex-listlike\n",
      "  return self._getitem_nested_tuple(tup)\n"
     ]
    },
    {
     "data": {
      "text/html": [
       "<div>\n",
       "<style scoped>\n",
       "    .dataframe tbody tr th:only-of-type {\n",
       "        vertical-align: middle;\n",
       "    }\n",
       "\n",
       "    .dataframe tbody tr th {\n",
       "        vertical-align: top;\n",
       "    }\n",
       "\n",
       "    .dataframe thead th {\n",
       "        text-align: right;\n",
       "    }\n",
       "</style>\n",
       "<table border=\"1\" class=\"dataframe\">\n",
       "  <thead>\n",
       "    <tr style=\"text-align: right;\">\n",
       "      <th></th>\n",
       "      <th></th>\n",
       "      <th>2010q3</th>\n",
       "      <th>2015q2</th>\n",
       "      <th>2016q4</th>\n",
       "    </tr>\n",
       "    <tr>\n",
       "      <th>State</th>\n",
       "      <th>RegionName</th>\n",
       "      <th></th>\n",
       "      <th></th>\n",
       "      <th></th>\n",
       "    </tr>\n",
       "  </thead>\n",
       "  <tbody>\n",
       "    <tr>\n",
       "      <th rowspan=\"2\" valign=\"top\">Ohio</th>\n",
       "      <th>Akron</th>\n",
       "      <td>67566.666667</td>\n",
       "      <td>61833.333333</td>\n",
       "      <td>NaN</td>\n",
       "    </tr>\n",
       "    <tr>\n",
       "      <th>Dayton</th>\n",
       "      <td>57600.000000</td>\n",
       "      <td>50000.000000</td>\n",
       "      <td>NaN</td>\n",
       "    </tr>\n",
       "  </tbody>\n",
       "</table>\n",
       "</div>"
      ],
      "text/plain": [
       "                        2010q3        2015q2  2016q4\n",
       "State RegionName                                    \n",
       "Ohio  Akron       67566.666667  61833.333333     NaN\n",
       "      Dayton      57600.000000  50000.000000     NaN"
      ]
     },
     "execution_count": 21,
     "metadata": {},
     "output_type": "execute_result"
    }
   ],
   "source": [
    "def convert_housing_data_to_quarters():\n",
    "    '''Converts the housing data to quarters and returns it as mean \n",
    "    values in a dataframe. This dataframe should be a dataframe with\n",
    "    columns for 2000q1 through 2016q3, and should have a multi-index\n",
    "    in the shape of [\"State\",\"RegionName\"].\n",
    "    \n",
    "    Note: Quarters are defined in the assignment description, they are\n",
    "    not arbitrary three month periods.\n",
    "    \n",
    "    The resulting dataframe should have 67 columns, and 10,730 rows.\n",
    "    '''\n",
    "    \n",
    "    return quarter_price.set_index([housing_data['State'],housing_data['RegionName']])\n",
    "\n",
    "convert_housing_data_to_quarters().loc[[('Ohio','Akron'),('Ohio','Dayton')]].loc[:,['2010q3','2015q2','2016q4']]\n"
   ]
  },
  {
   "cell_type": "code",
   "execution_count": 22,
   "metadata": {},
   "outputs": [
    {
     "name": "stderr",
     "output_type": "stream",
     "text": [
      "/Users/Nan/anaconda2/lib/python3.7/site-packages/IPython/core/interactiveshell.py:2843: PerformanceWarning: indexing past lexsort depth may impact performance.\n",
      "  raw_cell, store_history, silent, shell_futures)\n"
     ]
    },
    {
     "data": {
      "text/plain": [
       "(True, 0.002099659657952039, 'university town')"
      ]
     },
     "execution_count": 22,
     "metadata": {},
     "output_type": "execute_result"
    }
   ],
   "source": [
    "def run_ttest():\n",
    "    '''First creates new data showing the decline or growth of housing prices\n",
    "    between the recession start and the recession bottom. Then runs a ttest\n",
    "    comparing the university town values to the non-university towns values, \n",
    "    return whether the alternative hypothesis (that the two groups are the same)\n",
    "    is true or not as well as the p-value of the confidence. \n",
    "    \n",
    "    Return the tuple (different, p, better) where different=True if the t-test is\n",
    "    True at a p<0.01 (we reject the null hypothesis), or different=False if \n",
    "    otherwise (we cannot reject the null hypothesis). The variable p should\n",
    "    be equal to the exact p value returned from scipy.stats.ttest_ind(). The\n",
    "    value for better should be either \"university town\" or \"non-university town\"\n",
    "    depending on which has a lower mean price ratio (which is equivilent to a\n",
    "    reduced market loss).'''\n",
    "    university_towns = get_list_of_university_towns()\n",
    "    housing_price_quarterly = convert_housing_data_to_quarters()\n",
    "    start = get_recession_start()\n",
    "    bottom = get_recession_bottom()\n",
    "\n",
    "    start_idx = housing_price_quarterly.columns.get_loc(start)\n",
    "    before = housing_price_quarterly.columns[start_idx-1]\n",
    "    \n",
    "    housing_price_quarterly['ratio']= housing_price_quarterly[before]-housing_price_quarterly[bottom]\n",
    "    \n",
    "    university_town_index = []\n",
    "    for i, row in university_towns.iterrows():\n",
    "        idx = (row[0], row[1])\n",
    "        if idx in housing_price_quarterly.index:\n",
    "            university_town_index.append(idx)\n",
    "    \n",
    "    house_price_university_town = housing_price_quarterly.loc[university_town_index]['ratio']\n",
    "\n",
    "    non_university_town_index = set(housing_price_quarterly.index) - set(university_town_index)\n",
    "\n",
    "    house_price_non_university_town = housing_price_quarterly.loc[list(non_university_town_index)]['ratio']\n",
    "    \n",
    "    house_price_non_university_town.dropna(inplace=True)\n",
    "    house_price_university_town.dropna(inplace=True)\n",
    "    \n",
    "    \n",
    "    t,p = ttest_ind(house_price_university_town, house_price_non_university_town)\n",
    "    \n",
    "    different = p < 0.05\n",
    "    result = t < 0\n",
    "    better = [ \"university town\", \"non-university town\"]\n",
    "    \n",
    "    return  (different, p, \"university town\")\n",
    "\n",
    "\n",
    "\n",
    "run_ttest()"
   ]
  },
  {
   "cell_type": "code",
   "execution_count": null,
   "metadata": {},
   "outputs": [],
   "source": []
  }
 ],
 "metadata": {
  "coursera": {
   "course_slug": "python-data-analysis",
   "graded_item_id": "Il9Fx",
   "launcher_item_id": "TeDW0",
   "part_id": "WGlun"
  },
  "kernelspec": {
   "display_name": "Python 3",
   "language": "python",
   "name": "python3"
  },
  "language_info": {
   "codemirror_mode": {
    "name": "ipython",
    "version": 3
   },
   "file_extension": ".py",
   "mimetype": "text/x-python",
   "name": "python",
   "nbconvert_exporter": "python",
   "pygments_lexer": "ipython3",
   "version": "3.7.2"
  }
 },
 "nbformat": 4,
 "nbformat_minor": 1
}
